{
 "cells": [
  {
   "cell_type": "code",
   "execution_count": null,
   "metadata": {},
   "outputs": [],
   "source": [
    "from selenium import webdriver\n",
    "from bs4 import BeautifulSoup\n",
    "import time\n",
    "s_name=input('화합물 이름을 입력해주세요')\n",
    "s_link='https://pubchem.ncbi.nlm.nih.gov/#query='+s_name\n",
    "driver = webdriver.Chrome('chromedriver.exe')\n",
    "driver.get(s_link)\n",
    "time.sleep(2)\n",
    "html = driver.page_source\n",
    "soup = BeautifulSoup(html, 'html.parser')\n",
    "a = soup.select(\"#featured-results > div > div.box-shadow > div > div.p-sm.flex-container.flex-nowrap.width-100 > div.flex-grow-1.p-md-left > div.f-medium.p-sm-top.p-sm-bottom.f-1125 > a\")\n",
    "#a=driver.find_element_by_xpath('//*[@id=\"featured-results\"]/div/div[2]/div/div[1]/div[2]/div[1]/a')\n",
    "#driver.get(a[0].get_attribute('href'))\n",
    "res_link = a[0].get('href')\n",
    "driver.get(res_link)\n",
    "time.sleep(2)\n",
    "html = driver.page_source\n",
    "soup = BeautifulSoup(html, 'html.parser')\n",
    "b = "
   ]
  },
  {
   "cell_type": "code",
   "execution_count": 1,
   "metadata": {},
   "outputs": [],
   "source": [
    "class Queue:\n",
    "    def __init__(self):\n",
    "        self.items=[]\n",
    "    def enqueue(self,item):\n",
    "        self.items.insert(0,item)\n",
    "    def dequeue(self):\n",
    "        return self.items.pop()\n",
    "    def isEmpty(self):\n",
    "        return len(self.items)==0\n",
    "    def size(self):\n",
    "        return len(self.items)"
   ]
  },
  {
   "cell_type": "code",
   "execution_count": 2,
   "metadata": {},
   "outputs": [],
   "source": [
    "def printProgressBar (iteration, total, prefix = '', suffix = '', decimals = 1, length = 100, fill = '█'):\n",
    "    \"\"\"\n",
    "    Call in a loop to create terminal progress bar\n",
    "    @params:\n",
    "        iteration   - Required  : current iteration (Int)\n",
    "        total       - Required  : total iterations (Int)\n",
    "        prefix      - Optional  : prefix string (Str)\n",
    "        suffix      - Optional  : suffix string (Str)\n",
    "        decimals    - Optional  : positive number of decimals in percent complete (Int)\n",
    "        length      - Optional  : character length of bar (Int)\n",
    "        fill        - Optional  : bar fill character (Str)\n",
    "    \"\"\"\n",
    "    percent = (\"{0:.\" + str(decimals) + \"f}\").format(100 * (iteration / float(total)))\n",
    "    filledLength = int(length * iteration // total)\n",
    "    bar = fill * filledLength + '-' * (length - filledLength)\n",
    "    print('\\r%s |%s| %s%% %s' % (prefix, bar, percent, suffix), end = '\\r')\n",
    "    # Print New Line on Complete\n",
    "    if iteration == total: \n",
    "        print()"
   ]
  },
  {
   "cell_type": "code",
   "execution_count": null,
   "metadata": {},
   "outputs": [],
   "source": [
    "import requests\n",
    "from bs4 import BeautifulSoup\n",
    "import time\n",
    "s_name=input('화합물 이름을 입력해주세요')\n",
    "s_link='https://pubchem.ncbi.nlm.nih.gov/#query='+s_name\n",
    "\n",
    "req = requests.get('https://pubchem.ncbi.nlm.nih.gov/#query=alcohol')\n",
    "time.sleep(5)\n",
    "## HTML 소스 가져오기\n",
    "html = req.text\n",
    "soup = BeautifulSoup(html, 'html.parser')\n",
    "b = soup.select(\"#featured-results > div > div.box-shadow > div > div.p-sm.flex-container.flex-nowrap.width-100 > div.flex-grow-1.p-md-left > div.f-medium.p-sm-top.p-sm-bottom.f-1125 > a\")\n",
    "\n",
    "print(b[0].get('href'))\n",
    "#a=driver.find_element_by_xpath('//*[@id=\"featured-results\"]/div/div[2]/div/div[1]/div[2]/div[1]/a')\n",
    "#driver.get(a[0].get_attribute('href'))\n",
    "\n",
    "\n",
    "\n"
   ]
  },
  {
   "cell_type": "code",
   "execution_count": 3,
   "metadata": {
    "scrolled": true
   },
   "outputs": [],
   "source": [
    "from selenium import webdriver\n",
    "from bs4 import BeautifulSoup\n",
    "import time\n",
    "def chem_search(s_name):    \n",
    "    s_link='https://pubchem.ncbi.nlm.nih.gov/#query='+s_name\n",
    "    options_1 = webdriver.ChromeOptions()\n",
    "    options_1.add_argument('headless')\n",
    "    options_1.add_argument('window-size=1920x1080')\n",
    "    options_1.add_argument(\"disable-gpu\")\n",
    "    driver = webdriver.Chrome('chromedriver.exe',options=options_1)\n",
    "    #driver = webdriver.Chrome('chromedriver.exe')\n",
    "    driver.get(s_link)\n",
    "    # Initial call to print 0% progress\n",
    "    printProgressBar(0, 50, prefix = 'Progress:', suffix = 'Complete', length = 50)\n",
    "    for i in range(50):\n",
    "        # Do stuff...\n",
    "        time.sleep(0.1)\n",
    "        # Update Progress Bar\n",
    "        printProgressBar(i + 1, 50, prefix = '검색 중:', suffix = 'Complete', length = 50)\n",
    "    html = driver.page_source\n",
    "    soup = BeautifulSoup(html, 'html.parser')\n",
    "    \n",
    "    a = soup.select(\"#featured-results > div > div.box-shadow > div > div.p-sm.flex-container.flex-nowrap.width-100 > div.flex-grow-1.p-md-left > div.f-medium.p-sm-top.p-sm-bottom.f-1125 > a\")\n",
    "    b=a[0].get('href')\n",
    "    c=Queue()\n",
    "    temp=0\n",
    "    cidnum=''\n",
    "    for i in b:\n",
    "        if temp==4:\n",
    "            c.enqueue(i)\n",
    "        if i=='/':\n",
    "            temp+=1\n",
    "    while not c.isEmpty():\n",
    "        cidnum += c.dequeue()\n",
    "\n",
    "    #cid_link='https://pubchem.ncbi.nlm.nih.gov/rest/pug_view/data/compound/'+cidnum+'/XML/?response_type=display'\n",
    "    cid_link='https://pubchem.ncbi.nlm.nih.gov/compound/'+cidnum+'#section=Safety-and-Hazards'\n",
    "    driver.get(cid_link)\n",
    "    for i in range(200):\n",
    "        time.sleep(0.1)\n",
    "        printProgressBar(i + 1, 200, prefix = '데이터 수집 중:', suffix = 'Complete', length = 50)\n",
    "    html2 = driver.page_source\n",
    "    soup2 = BeautifulSoup(html2, 'html.parser')\n",
    "    #GHS-Classification > div.section-content > div.section-content-item > div.overflow-x-auto.border > table > tbody > tr:nth-child(3) > td > div > p:nth-child(2)\n",
    "    x=soup2.select(\"#GHS-Classification > div.section-content > div.section-content-item > div.overflow-x-auto.border > table > tbody > tr:nth-child(3) > td > div\")\n",
    "    return x[0]"
   ]
  },
  {
   "cell_type": "code",
   "execution_count": 6,
   "metadata": {},
   "outputs": [
    {
     "name": "stdout",
     "output_type": "stream",
     "text": [
      "검색할 화합물을 입력하세요phenol\n",
      "검색 중: |██████████████████████████████████████████████████| 100.0% Completete\n",
      "데이터 수집 중: |██████████████████████████████████████████████████| 100.0% Complete\n"
     ]
    },
    {
     "ename": "IndexError",
     "evalue": "list index out of range",
     "output_type": "error",
     "traceback": [
      "\u001b[1;31m---------------------------------------------------------------------------\u001b[0m",
      "\u001b[1;31mIndexError\u001b[0m                                Traceback (most recent call last)",
      "\u001b[1;32m<ipython-input-6-a54ac68fe4b3>\u001b[0m in \u001b[0;36m<module>\u001b[1;34m\u001b[0m\n\u001b[0;32m     30\u001b[0m         \u001b[0mtemp_3\u001b[0m\u001b[1;33m=\u001b[0m\u001b[0mc\u001b[0m\u001b[1;33m.\u001b[0m\u001b[0msize\u001b[0m\u001b[1;33m(\u001b[0m\u001b[1;33m)\u001b[0m\u001b[1;33m\u001b[0m\u001b[1;33m\u001b[0m\u001b[0m\n\u001b[0;32m     31\u001b[0m         \u001b[1;32mfor\u001b[0m \u001b[0mj\u001b[0m \u001b[1;32min\u001b[0m \u001b[0mrange\u001b[0m\u001b[1;33m(\u001b[0m\u001b[0mtemp_3\u001b[0m\u001b[1;33m)\u001b[0m\u001b[1;33m:\u001b[0m\u001b[1;33m\u001b[0m\u001b[1;33m\u001b[0m\u001b[0m\n\u001b[1;32m---> 32\u001b[1;33m             \u001b[0mcleanres\u001b[0m\u001b[1;33m[\u001b[0m\u001b[0mlines\u001b[0m\u001b[1;33m]\u001b[0m\u001b[1;33m+=\u001b[0m\u001b[0mc\u001b[0m\u001b[1;33m.\u001b[0m\u001b[0mdequeue\u001b[0m\u001b[1;33m(\u001b[0m\u001b[1;33m)\u001b[0m\u001b[1;33m\u001b[0m\u001b[1;33m\u001b[0m\u001b[0m\n\u001b[0m\u001b[0;32m     33\u001b[0m \u001b[1;33m\u001b[0m\u001b[0m\n\u001b[0;32m     34\u001b[0m \u001b[0mprint\u001b[0m\u001b[1;33m(\u001b[0m\u001b[0mcleanres\u001b[0m\u001b[1;33m)\u001b[0m\u001b[1;33m\u001b[0m\u001b[1;33m\u001b[0m\u001b[0m\n",
      "\u001b[1;31mIndexError\u001b[0m: list index out of range"
     ]
    }
   ],
   "source": [
    "a=input('검색할 화합물을 입력하세요')\n",
    "res=cleantxt(str(chem_search(a)))\n",
    "temp_1=0\n",
    "temp_2=0\n",
    "lines=-1\n",
    "temp_3=0\n",
    "temp_4=0\n",
    "\n",
    "cleanres=[]\n",
    "c=Queue()\n",
    "for i in res:\n",
    "    temp_4+=1\n",
    "    if i=='H':\n",
    "        temp_1+=1\n",
    "        c.enqueue(i)\n",
    "    if i in '0123456789' and temp_1==1:\n",
    "        temp_2+=1\n",
    "        c.enqueue(i)\n",
    "        \n",
    "    if temp_1==1 and temp_2==3:\n",
    "        c.enqueue(i)\n",
    "    if temp_1==2 and temp_2==6:\n",
    "        lines+=1\n",
    "        temp_3=c.size()\n",
    "        for j in range(temp_3 - 4):\n",
    "            cleanres[lines]+=c.dequeue()\n",
    "        temp_1 =1\n",
    "        temp_2 = 3    \n",
    "    if temp_4==len(res):\n",
    "        lines+=1\n",
    "        temp_3=c.size()\n",
    "        for j in range(temp_3):\n",
    "            cleanres[lines]+=c.dequeue()\n",
    "            \n",
    "print(cleanres)            "
   ]
  },
  {
   "cell_type": "code",
   "execution_count": 5,
   "metadata": {},
   "outputs": [],
   "source": [
    "import re\n",
    "\n",
    "def cleantxt(a):\n",
    "    cleanr = re.compile('<.*?>')\n",
    "    cleantext = re.sub(cleanr, '', a)\n",
    "    return cleantext\n",
    "    "
   ]
  }
 ],
 "metadata": {
  "kernelspec": {
   "display_name": "Python 3",
   "language": "python",
   "name": "python3"
  },
  "language_info": {
   "codemirror_mode": {
    "name": "ipython",
    "version": 3
   },
   "file_extension": ".py",
   "mimetype": "text/x-python",
   "name": "python",
   "nbconvert_exporter": "python",
   "pygments_lexer": "ipython3",
   "version": "3.7.3"
  }
 },
 "nbformat": 4,
 "nbformat_minor": 2
}
