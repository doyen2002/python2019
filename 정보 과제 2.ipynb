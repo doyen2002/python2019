{
 "cells": [
  {
   "cell_type": "code",
   "execution_count": 3,
   "metadata": {},
   "outputs": [],
   "source": [
    "class Queue:\n",
    "    def __init__(self):\n",
    "        self.items=[]\n",
    "    def enqueue(self,item):\n",
    "        self.items.insert(0,item)\n",
    "    def dequeue(self):\n",
    "        return self.items.pop()\n",
    "    def isEmpty(self):\n",
    "        return len(self.items)==0\n",
    "    def size(self):\n",
    "        return len(self.items)"
   ]
  },
  {
   "cell_type": "code",
   "execution_count": 4,
   "metadata": {},
   "outputs": [],
   "source": [
    "import re\n",
    "\n",
    "def cleantxt(a):\n",
    "    cleanr = re.compile('<.*?>')\n",
    "    cleantext = re.sub(cleanr, '', a)\n",
    "    return cleantext\n",
    "    "
   ]
  },
  {
   "cell_type": "code",
   "execution_count": 5,
   "metadata": {},
   "outputs": [],
   "source": [
    "# Print iterations progress\n",
    "def printProgressBar (iteration, total, prefix = '', suffix = '', decimals = 1, length = 100, fill = '█'):\n",
    "    \"\"\"\n",
    "    Call in a loop to create terminal progress bar\n",
    "    @params:\n",
    "        iteration   - Required  : current iteration (Int)\n",
    "        total       - Required  : total iterations (Int)\n",
    "        prefix      - Optional  : prefix string (Str)\n",
    "        suffix      - Optional  : suffix string (Str)\n",
    "        decimals    - Optional  : positive number of decimals in percent complete (Int)\n",
    "        length      - Optional  : character length of bar (Int)\n",
    "        fill        - Optional  : bar fill character (Str)\n",
    "    \"\"\"\n",
    "    percent = (\"{0:.\" + str(decimals) + \"f}\").format(100 * (iteration / float(total)))\n",
    "    filledLength = int(length * iteration // total)\n",
    "    bar = fill * filledLength + '-' * (length - filledLength)\n",
    "    print('\\r%s |%s| %s%% %s' % (prefix, bar, percent, suffix), end = '\\r')\n",
    "    # Print New Line on Complete\n",
    "    if iteration == total: \n",
    "        print()"
   ]
  },
  {
   "cell_type": "code",
   "execution_count": 23,
   "metadata": {
    "scrolled": true
   },
   "outputs": [],
   "source": [
    "from selenium import webdriver\n",
    "from bs4 import BeautifulSoup\n",
    "import time\n",
    "def chem_search(s_name):    \n",
    "    s_link='https://pubchem.ncbi.nlm.nih.gov/#query='+s_name\n",
    "    options_1 = webdriver.ChromeOptions()\n",
    "    options_1.add_argument('headless')\n",
    "    options_1.add_argument('window-size=1920x1080')\n",
    "    options_1.add_argument(\"disable-gpu\")\n",
    "    driver = webdriver.Chrome('chromedriver.exe',options=options_1)\n",
    "    #driver = webdriver.Chrome('chromedriver.exe')\n",
    "    driver.get(s_link)\n",
    "    # Initial call to print 0% progress\n",
    "    printProgressBar(0, 50, prefix = 'Progress:', suffix = 'Complete', length = 50)\n",
    "    for i in range(50):\n",
    "        # Do stuff...\n",
    "        time.sleep(0.1)\n",
    "        # Update Progress Bar\n",
    "        printProgressBar(i + 1, 50, prefix = '검색 중:', suffix = 'Complete', length = 50)\n",
    "    html = driver.page_source\n",
    "    soup = BeautifulSoup(html, 'html.parser')\n",
    "    \n",
    "    a = soup.select(\"#collection-results-container > div > div > div:nth-child(2) > ul > li:nth-child(1) > div > div > div.p-sm.flex-container.flex-nowrap.width-100 > div.flex-grow-1.p-md-left > div.f-medium.p-sm-top.p-sm-bottom.f-1125 > a\")\n",
    "    b=a[0].get('href')\n",
    "    c=Queue()\n",
    "    temp=0\n",
    "    cidnum=''\n",
    "    for i in b:\n",
    "        if temp==4:\n",
    "            c.enqueue(i)\n",
    "        if i=='/':\n",
    "            temp+=1\n",
    "    while not c.isEmpty():\n",
    "        cidnum += c.dequeue()\n",
    "\n",
    "    #cid_link='https://pubchem.ncbi.nlm.nih.gov/rest/pug_view/data/compound/'+cidnum+'/XML/?response_type=display'\n",
    "    cid_link='https://pubchem.ncbi.nlm.nih.gov/compound/'+cidnum+'#section=Safety-and-Hazards'\n",
    "    driver.get(cid_link)\n",
    "    for i in range(300):\n",
    "        time.sleep(0.1)\n",
    "        printProgressBar(i + 1, 300, prefix = '데이터 수집 중:', suffix = 'Complete', length = 50)\n",
    "    html2 = driver.page_source\n",
    "    soup2 = BeautifulSoup(html2, 'html.parser')\n",
    "    \n",
    "    #x1=soup2.select(\"#GHS-Classification > div.section-content > div.section-content-item > div.overflow-x-auto.border > table > tbody > tr:nth-child(3) > td > div\")\n",
    "    return soup2"
   ]
  },
  {
   "cell_type": "code",
   "execution_count": 12,
   "metadata": {},
   "outputs": [],
   "source": [
    "from bs4 import BeautifulSoup\n",
    "def finding_hazard(a):\n",
    "    x=a.select(\"#GHS-Classification > div.section-content > div.section-content-item > div.overflow-x-auto.border > table > tbody > tr:nth-child(3) > td > div\")\n",
    "    cleanres=[]\n",
    "    for i in x[0].find_all('p'):\n",
    "        cleanres.append(i.text)\n",
    "    return cleanres    \n",
    "def finding_formula(a):\n",
    "    x=a.select(\"#main-content > div.main-width > div > div > div.summary.p-l-top.p-l-bottom > div > table > tbody > tr:nth-child(5) > td\")\n",
    "    b=x[0].find('a')\n",
    "    e=b.get('href')\n",
    "    c=0\n",
    "    d=''\n",
    "    for i in e:\n",
    "        c+=1\n",
    "        if c>8:\n",
    "            d+=i\n",
    "    return d       \n",
    "def finding_name(a):\n",
    "    x=a.select(\"#main-content > div.main-width > div > div > div.summary.p-l-top.p-l-bottom > div > table > tbody > tr:nth-child(7) > td > div > div\")\n",
    "    cleanres=[]\n",
    "    for i in x[0].find_all('p'):\n",
    "        cleanres.append(i.text)\n",
    "    return cleanres \n",
    "def finding_mweight(a):\n",
    "    x=a.select(\"#main-content > div.main-width > div > div > div.summary.p-l-top.p-l-bottom > div > table > tbody > tr:nth-child(8) > td\")\n",
    "    return x[0].text"
   ]
  },
  {
   "cell_type": "code",
   "execution_count": 8,
   "metadata": {},
   "outputs": [],
   "source": [
    "def mainf(a):\n",
    "    res=chem_search(a)\n",
    "    mres=[]\n",
    "    mres.append('화학식:'+finding_formula(res))\n",
    "    mres.append('분자량:'+finding_mweight(res))\n",
    "    mres.append('이름')\n",
    "    for i in finding_name(res):\n",
    "        mres.append(i)\n",
    "    mres.append('위험성')\n",
    "    for i in finding_hazard(res):\n",
    "        mres.append(i)\n",
    "    return mres    "
   ]
  },
  {
   "cell_type": "code",
   "execution_count": 25,
   "metadata": {
    "scrolled": true
   },
   "outputs": [
    {
     "name": "stdout",
     "output_type": "stream",
     "text": [
      "화합물의 이름을 입력하세요C6H6\n",
      "검색 중: |██████████████████████████████████████████████████| 100.0% Completete\n",
      "데이터 수집 중: |██████████████████████████████████████████████████| 100.0% Complete\n",
      "화학식:C6H6\n",
      "분자량:78.114 g/mol\n",
      "이름\n",
      "benzene\n",
      "benzol\n",
      "71-43-2\n",
      "benzole\n",
      "Cyclohexatriene\n",
      "위험성\n",
      "\n",
      "H225: Highly Flammable liquid and vapor [Danger Flammable liquids]\n",
      "H304: May be fatal if swallowed and enters airways [Danger Aspiration hazard]\n",
      "H315: Causes skin irritation [Warning Skin corrosion/irritation]\n",
      "H319: Causes serious eye irritation [Warning Serious eye damage/eye irritation]\n",
      "H340: May cause genetic defects [Danger Germ cell mutagenicity]\n",
      "H350: May cause cancer [Danger Carcinogenicity]\n",
      "H372 **: Causes damage to organs through prolonged or repeated exposure [Danger Specific target organ toxicity, repeated exposure]\n",
      "\n"
     ]
    }
   ],
   "source": [
    "b=input('화합물의 이름을 입력하세요')\n",
    "a=mainf(b)\n",
    "for i in a:\n",
    "    print(i)"
   ]
  },
  {
   "cell_type": "code",
   "execution_count": null,
   "metadata": {},
   "outputs": [],
   "source": [
    "from googletrans import Translator\n",
    "\n"
   ]
  }
 ],
 "metadata": {
  "kernelspec": {
   "display_name": "Python 3",
   "language": "python",
   "name": "python3"
  },
  "language_info": {
   "codemirror_mode": {
    "name": "ipython",
    "version": 3
   },
   "file_extension": ".py",
   "mimetype": "text/x-python",
   "name": "python",
   "nbconvert_exporter": "python",
   "pygments_lexer": "ipython3",
   "version": "3.7.3"
  }
 },
 "nbformat": 4,
 "nbformat_minor": 2
}
